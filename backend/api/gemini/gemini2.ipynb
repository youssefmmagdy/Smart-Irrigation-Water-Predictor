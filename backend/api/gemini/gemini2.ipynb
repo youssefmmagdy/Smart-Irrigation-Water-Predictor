{
 "cells": [
  {
   "cell_type": "code",
   "execution_count": 2,
   "id": "214da711",
   "metadata": {},
   "outputs": [],
   "source": [
    "import os\n",
    "from dotenv import load_dotenv\n",
    "from llama_index.core import SimpleDirectoryReader\n",
    "from llama_index.core import VectorStoreIndex\n",
    "from llama_index.llms.google_genai import GoogleGenAI\n",
    "\n",
    "from llama_index.embeddings.google_genai import GoogleGenAIEmbedding\n",
    "from llama_index.core import Settings\n",
    "from llama_index.core.node_parser import SentenceSplitter\n",
    "\n",
    "load_dotenv()\n",
    "google_api_key = os.getenv(\"GOOGLE_API_KEY\")\n",
    "OPENAI_API_KEY = os.getenv('OPENAI_API_KEY')\n",
    "\n",
    "documents = SimpleDirectoryReader('../data').load_data()\n",
    "model = GoogleGenAI(model='gemini-2.5-flash-preview-05-20', api_key=google_api_key)\n",
    "model_embedding = GoogleGenAIEmbedding(model_name='text-embedding-004')\n",
    "\n",
    "Settings.llm = model\n",
    "Settings.embed_model = model_embedding\n",
    "Settings.node_parser = SentenceSplitter(chunk_size=512, chunk_overlap=20)\n",
    "Settings.num_output = 512\n",
    "Settings.context_window = 3900\n",
    "\n",
    "\n",
    "index = VectorStoreIndex.from_documents(\n",
    "        documents, \n",
    "        embed_model=model_embedding,\n",
    "        transformations=[Settings.node_parser]\n",
    ")\n",
    "\n"
   ]
  },
  {
   "cell_type": "code",
   "execution_count": 3,
   "id": "d9fe6546",
   "metadata": {},
   "outputs": [],
   "source": [
    "index.storage_context.persist(persist_dir=\"./gemini_index\")"
   ]
  },
  {
   "cell_type": "code",
   "execution_count": 11,
   "id": "f688c25d",
   "metadata": {},
   "outputs": [
    {
     "name": "stdout",
     "output_type": "stream",
     "text": [
      "The document addresses the critical issue of water scarcity and the importance of efficient irrigation in global agriculture. It highlights agriculture's significant water footprint and the projected increase in demand for irrigated food production, emphasizing the need for effective water resource management in the face of climate change. The content details various machine learning models, such as XGBoost, CNN, ANN, and DNN, used for prediction, along with discussions on dataset summaries, model evaluation, and user interface aspects.\n"
     ]
    }
   ],
   "source": [
    "from llama_index.core import StorageContext, VectorStoreIndex\n",
    "from llama_index.core import load_index_from_storage\n",
    "\n",
    "storage_context = StorageContext.from_defaults(persist_dir=\"./gemini_index\")\n",
    "index = load_index_from_storage(storage_context)\n",
    "\n",
    "\n",
    "query_engine = index.as_query_engine()\n",
    "def ask_gemini(query):\n",
    "    response = query_engine.query(query)\n",
    "    return response.response\n",
    "print(ask_gemini(\"What is the purpose of the document?\"))"
   ]
  }
 ],
 "metadata": {
  "kernelspec": {
   "display_name": ".venv",
   "language": "python",
   "name": "python3"
  },
  "language_info": {
   "codemirror_mode": {
    "name": "ipython",
    "version": 3
   },
   "file_extension": ".py",
   "mimetype": "text/x-python",
   "name": "python",
   "nbconvert_exporter": "python",
   "pygments_lexer": "ipython3",
   "version": "3.11.9"
  }
 },
 "nbformat": 4,
 "nbformat_minor": 5
}
